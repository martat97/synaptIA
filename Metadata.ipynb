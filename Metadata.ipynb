{
 "cells": [
  {
   "cell_type": "markdown",
   "id": "3748de29",
   "metadata": {},
   "source": [
    "## Quali caratteristiche dei dataset posso utilizzare per distinguerli?\n",
    "\n",
    "#### 1. Nomi features\n",
    "#### 2. Nome dataset\n",
    "#### 3. Tipo di dati (numerici, stringhe etc..)\n",
    "#### 4. Contenuto effettivo dati\n",
    "#### 5. Distribuzione dati (numerici) / Modalità variabile (per stringhe)\n",
    "#### 6. Fonte (sito web d'origine)\n",
    "#### 7. Mancanza dati/Noise..?\n",
    "#### 8. Numero features .. ?\n",
    "#### 0. Ibrido\n"
   ]
  },
  {
   "cell_type": "code",
   "execution_count": 7,
   "id": "f9606b1b",
   "metadata": {},
   "outputs": [
    {
     "name": "stdout",
     "output_type": "stream",
     "text": [
      "<class 'pandas.core.frame.DataFrame'>\n",
      "RangeIndex: 202 entries, 0 to 201\n",
      "Data columns (total 29 columns):\n",
      " #   Column                                   Non-Null Count  Dtype  \n",
      "---  ------                                   --------------  -----  \n",
      " 0   Countries and areas                      202 non-null    object \n",
      " 1   Latitude                                 202 non-null    float64\n",
      " 2   Longitude                                202 non-null    float64\n",
      " 3   OOSR_Pre0Primary_Age_Male                202 non-null    int64  \n",
      " 4   OOSR_Pre0Primary_Age_Female              202 non-null    int64  \n",
      " 5   OOSR_Primary_Age_Male                    202 non-null    int64  \n",
      " 6   OOSR_Primary_Age_Female                  202 non-null    int64  \n",
      " 7   OOSR_Lower_Secondary_Age_Male            202 non-null    int64  \n",
      " 8   OOSR_Lower_Secondary_Age_Female          202 non-null    int64  \n",
      " 9   OOSR_Upper_Secondary_Age_Male            202 non-null    int64  \n",
      " 10  OOSR_Upper_Secondary_Age_Female          202 non-null    int64  \n",
      " 11  Completion_Rate_Primary_Male             202 non-null    int64  \n",
      " 12  Completion_Rate_Primary_Female           202 non-null    int64  \n",
      " 13  Completion_Rate_Lower_Secondary_Male     202 non-null    int64  \n",
      " 14  Completion_Rate_Lower_Secondary_Female   202 non-null    int64  \n",
      " 15  Completion_Rate_Upper_Secondary_Male     202 non-null    int64  \n",
      " 16  Completion_Rate_Upper_Secondary_Female   202 non-null    int64  \n",
      " 17  Grade_2_3_Proficiency_Reading            202 non-null    int64  \n",
      " 18  Grade_2_3_Proficiency_Math               202 non-null    int64  \n",
      " 19  Primary_End_Proficiency_Reading          202 non-null    int64  \n",
      " 20  Primary_End_Proficiency_Math             202 non-null    int64  \n",
      " 21  Lower_Secondary_End_Proficiency_Reading  202 non-null    int64  \n",
      " 22  Lower_Secondary_End_Proficiency_Math     202 non-null    int64  \n",
      " 23  Youth_15_24_Literacy_Rate_Male           202 non-null    int64  \n",
      " 24  Youth_15_24_Literacy_Rate_Female         202 non-null    int64  \n",
      " 25  Birth_Rate                               202 non-null    float64\n",
      " 26  Gross_Primary_Education_Enrollment       202 non-null    float64\n",
      " 27  Gross_Tertiary_Education_Enrollment      202 non-null    float64\n",
      " 28  Unemployment_Rate                        202 non-null    float64\n",
      "dtypes: float64(6), int64(22), object(1)\n",
      "memory usage: 45.9+ KB\n",
      "None\n"
     ]
    }
   ],
   "source": [
    "import pandas as pd\n",
    "# Carica il file CSV\n",
    "file_path = 'test dataset clustering/education/Global_Education.csv'\n",
    "df = pd.read_csv(file_path, encoding='latin')\n",
    "\n",
    "# Ottieni i metadati\n",
    "info = df.info()\n",
    "\n",
    "# Visualizza i metadati\n",
    "print(info)"
   ]
  },
  {
   "cell_type": "code",
   "execution_count": 4,
   "id": "ed7884e9",
   "metadata": {},
   "outputs": [
    {
     "name": "stdout",
     "output_type": "stream",
     "text": [
      "       Project Geographic District   \\\n",
      "count                   8185.000000   \n",
      "mean                      17.648259   \n",
      "std                        9.419492   \n",
      "min                        1.000000   \n",
      "25%                       10.000000   \n",
      "50%                       19.000000   \n",
      "75%                       26.000000   \n",
      "max                       32.000000   \n",
      "\n",
      "       Final Estimate of Actual Costs Through End of Phase Amount  \\\n",
      "count                                       8.181000e+03            \n",
      "mean                                        1.185590e+06            \n",
      "std                                         6.300406e+06            \n",
      "min                                         0.000000e+00            \n",
      "25%                                         1.841900e+04            \n",
      "50%                                         8.030900e+04            \n",
      "75%                                         2.640000e+05            \n",
      "max                                         1.150066e+08            \n",
      "\n",
      "       Total Phase Actual Spending Amount  \n",
      "count                        8.185000e+03  \n",
      "mean                         4.091091e+05  \n",
      "std                          3.255846e+06  \n",
      "min                          0.000000e+00  \n",
      "25%                          0.000000e+00  \n",
      "50%                          6.762000e+03  \n",
      "75%                          7.939600e+04  \n",
      "max                          7.934706e+07  \n"
     ]
    }
   ],
   "source": [
    "basic_statistics = df.describe()\n",
    "print(basic_statistics)"
   ]
  },
  {
   "cell_type": "code",
   "execution_count": null,
   "id": "b89ebffe",
   "metadata": {},
   "outputs": [],
   "source": []
  }
 ],
 "metadata": {
  "kernelspec": {
   "display_name": "Python 3 (ipykernel)",
   "language": "python",
   "name": "python3"
  },
  "language_info": {
   "codemirror_mode": {
    "name": "ipython",
    "version": 3
   },
   "file_extension": ".py",
   "mimetype": "text/x-python",
   "name": "python",
   "nbconvert_exporter": "python",
   "pygments_lexer": "ipython3",
   "version": "3.9.13"
  }
 },
 "nbformat": 4,
 "nbformat_minor": 5
}
